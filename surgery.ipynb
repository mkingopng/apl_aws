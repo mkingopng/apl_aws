{
 "cells": [
  {
   "cell_type": "code",
   "execution_count": 16,
   "id": "initial_id",
   "metadata": {
    "collapsed": true,
    "ExecuteTime": {
     "end_time": "2024-02-10T01:19:08.989600275Z",
     "start_time": "2024-02-10T01:19:08.943999348Z"
    }
   },
   "outputs": [],
   "source": [
    "import pandas as pd"
   ]
  },
  {
   "cell_type": "code",
   "outputs": [],
   "source": [
    "dtype_dict = {\n",
    "    'State': 'string',\n",
    "    'ParentFederation': 'string',\n",
    "    'MeetState': 'string',\n",
    "    'Bench4kg': 'float'\n",
    "}"
   ],
   "metadata": {
    "collapsed": false,
    "ExecuteTime": {
     "end_time": "2024-02-10T01:19:08.991257915Z",
     "start_time": "2024-02-10T01:19:08.989872150Z"
    }
   },
   "id": "7eaa7d5daf70bdf7",
   "execution_count": 17
  },
  {
   "cell_type": "code",
   "outputs": [],
   "source": [
    "def yes_no_to_bool(value):\n",
    "    if value == 'Yes':\n",
    "        return True\n",
    "    else:\n",
    "        # Treats anything not \"Yes\" (including empty values) as False\n",
    "        return False"
   ],
   "metadata": {
    "collapsed": false,
    "ExecuteTime": {
     "end_time": "2024-02-10T01:19:09.000763946Z",
     "start_time": "2024-02-10T01:19:08.991895853Z"
    }
   },
   "id": "d52188b6148f1313",
   "execution_count": 18
  },
  {
   "cell_type": "code",
   "outputs": [
    {
     "data": {
      "text/plain": "                     Name Sex Event Equipment   Age AgeClass BirthYearClass  \\\n0             Alona Vladi   F   SBD       Raw  33.0    24-34          24-39   \n1      Galina Solovyanova   F   SBD       Raw  43.0    40-44          40-49   \n2          Daniil Voronin   M   SBD       Raw  15.5    16-17          14-18   \n3          Aleksey Krasov   M   SBD       Raw  35.0    35-39          24-39   \n4  Margarita Pleschenkova   M   SBD       Raw  26.5    24-34          24-39   \n\n  Division  BodyweightKg WeightClassKg  ...  Tested  Country  State  \\\n0        O         58.30            60  ...    True   Russia   <NA>   \n1       M1         73.10            75  ...    True   Russia   <NA>   \n2        T         67.40            75  ...    True   Russia   <NA>   \n3        O         66.65            75  ...    True   Russia   <NA>   \n4        O         72.45            75  ...    True   Russia   <NA>   \n\n   Federation  ParentFederation        Date  MeetCountry  MeetState  MeetTown  \\\n0         GFP              <NA>  2019-05-11       Russia       <NA>   Bryansk   \n1         GFP              <NA>  2019-05-11       Russia       <NA>   Bryansk   \n2         GFP              <NA>  2019-05-11       Russia       <NA>   Bryansk   \n3         GFP              <NA>  2019-05-11       Russia       <NA>   Bryansk   \n4         GFP              <NA>  2019-05-11       Russia       <NA>   Bryansk   \n\n          MeetName  \n0  Open Tournament  \n1  Open Tournament  \n2  Open Tournament  \n3  Open Tournament  \n4  Open Tournament  \n\n[5 rows x 41 columns]",
      "text/html": "<div>\n<style scoped>\n    .dataframe tbody tr th:only-of-type {\n        vertical-align: middle;\n    }\n\n    .dataframe tbody tr th {\n        vertical-align: top;\n    }\n\n    .dataframe thead th {\n        text-align: right;\n    }\n</style>\n<table border=\"1\" class=\"dataframe\">\n  <thead>\n    <tr style=\"text-align: right;\">\n      <th></th>\n      <th>Name</th>\n      <th>Sex</th>\n      <th>Event</th>\n      <th>Equipment</th>\n      <th>Age</th>\n      <th>AgeClass</th>\n      <th>BirthYearClass</th>\n      <th>Division</th>\n      <th>BodyweightKg</th>\n      <th>WeightClassKg</th>\n      <th>...</th>\n      <th>Tested</th>\n      <th>Country</th>\n      <th>State</th>\n      <th>Federation</th>\n      <th>ParentFederation</th>\n      <th>Date</th>\n      <th>MeetCountry</th>\n      <th>MeetState</th>\n      <th>MeetTown</th>\n      <th>MeetName</th>\n    </tr>\n  </thead>\n  <tbody>\n    <tr>\n      <th>0</th>\n      <td>Alona Vladi</td>\n      <td>F</td>\n      <td>SBD</td>\n      <td>Raw</td>\n      <td>33.0</td>\n      <td>24-34</td>\n      <td>24-39</td>\n      <td>O</td>\n      <td>58.30</td>\n      <td>60</td>\n      <td>...</td>\n      <td>True</td>\n      <td>Russia</td>\n      <td>&lt;NA&gt;</td>\n      <td>GFP</td>\n      <td>&lt;NA&gt;</td>\n      <td>2019-05-11</td>\n      <td>Russia</td>\n      <td>&lt;NA&gt;</td>\n      <td>Bryansk</td>\n      <td>Open Tournament</td>\n    </tr>\n    <tr>\n      <th>1</th>\n      <td>Galina Solovyanova</td>\n      <td>F</td>\n      <td>SBD</td>\n      <td>Raw</td>\n      <td>43.0</td>\n      <td>40-44</td>\n      <td>40-49</td>\n      <td>M1</td>\n      <td>73.10</td>\n      <td>75</td>\n      <td>...</td>\n      <td>True</td>\n      <td>Russia</td>\n      <td>&lt;NA&gt;</td>\n      <td>GFP</td>\n      <td>&lt;NA&gt;</td>\n      <td>2019-05-11</td>\n      <td>Russia</td>\n      <td>&lt;NA&gt;</td>\n      <td>Bryansk</td>\n      <td>Open Tournament</td>\n    </tr>\n    <tr>\n      <th>2</th>\n      <td>Daniil Voronin</td>\n      <td>M</td>\n      <td>SBD</td>\n      <td>Raw</td>\n      <td>15.5</td>\n      <td>16-17</td>\n      <td>14-18</td>\n      <td>T</td>\n      <td>67.40</td>\n      <td>75</td>\n      <td>...</td>\n      <td>True</td>\n      <td>Russia</td>\n      <td>&lt;NA&gt;</td>\n      <td>GFP</td>\n      <td>&lt;NA&gt;</td>\n      <td>2019-05-11</td>\n      <td>Russia</td>\n      <td>&lt;NA&gt;</td>\n      <td>Bryansk</td>\n      <td>Open Tournament</td>\n    </tr>\n    <tr>\n      <th>3</th>\n      <td>Aleksey Krasov</td>\n      <td>M</td>\n      <td>SBD</td>\n      <td>Raw</td>\n      <td>35.0</td>\n      <td>35-39</td>\n      <td>24-39</td>\n      <td>O</td>\n      <td>66.65</td>\n      <td>75</td>\n      <td>...</td>\n      <td>True</td>\n      <td>Russia</td>\n      <td>&lt;NA&gt;</td>\n      <td>GFP</td>\n      <td>&lt;NA&gt;</td>\n      <td>2019-05-11</td>\n      <td>Russia</td>\n      <td>&lt;NA&gt;</td>\n      <td>Bryansk</td>\n      <td>Open Tournament</td>\n    </tr>\n    <tr>\n      <th>4</th>\n      <td>Margarita Pleschenkova</td>\n      <td>M</td>\n      <td>SBD</td>\n      <td>Raw</td>\n      <td>26.5</td>\n      <td>24-34</td>\n      <td>24-39</td>\n      <td>O</td>\n      <td>72.45</td>\n      <td>75</td>\n      <td>...</td>\n      <td>True</td>\n      <td>Russia</td>\n      <td>&lt;NA&gt;</td>\n      <td>GFP</td>\n      <td>&lt;NA&gt;</td>\n      <td>2019-05-11</td>\n      <td>Russia</td>\n      <td>&lt;NA&gt;</td>\n      <td>Bryansk</td>\n      <td>Open Tournament</td>\n    </tr>\n  </tbody>\n</table>\n<p>5 rows × 41 columns</p>\n</div>"
     },
     "execution_count": 19,
     "metadata": {},
     "output_type": "execute_result"
    }
   ],
   "source": [
    "df = pd. read_csv('data/openpowerlifting-2024-02-03-a32a2f7d.csv', dtype=dtype_dict, converters= {'Tested': yes_no_to_bool})\n",
    "df.head()"
   ],
   "metadata": {
    "collapsed": false,
    "ExecuteTime": {
     "end_time": "2024-02-10T01:19:16.748450208Z",
     "start_time": "2024-02-10T01:19:09.000329273Z"
    }
   },
   "id": "544fd3e248bf8809",
   "execution_count": 19
  },
  {
   "cell_type": "code",
   "outputs": [
    {
     "data": {
      "text/plain": "                  Name Sex Event Equipment   Age AgeClass BirthYearClass  \\\n5283      Ali Gascoine   F   SBD       Raw   NaN      NaN            NaN   \n5284    Megan Hinchley   F   SBD       Raw  30.5    24-34          24-39   \n5285       Mary Macken   F   SBD       Raw  50.5    50-54          50-59   \n5286   Rae-Leigh Lyons   F   SBD       Raw  20.5    20-23          19-23   \n5287  Elizabeth Craven   F   SBD       Raw  37.0    35-39          24-39   \n\n     Division  BodyweightKg WeightClassKg  ...  Tested      Country  State  \\\n5283     Open          50.6            52  ...    True  New Zealand   <NA>   \n5284     Open          51.0            52  ...    True    Australia   <NA>   \n5285     Open          51.2            52  ...    True    Australia   <NA>   \n5286  Juniors          51.5            52  ...    True    Australia   <NA>   \n5287     Open          51.8            52  ...    True    Australia   <NA>   \n\n      Federation  ParentFederation        Date  MeetCountry  MeetState  \\\n5283   OceaniaPF               IPF  2012-12-07    Australia        NSW   \n5284   OceaniaPF               IPF  2012-12-07    Australia        NSW   \n5285   OceaniaPF               IPF  2012-12-07    Australia        NSW   \n5286   OceaniaPF               IPF  2012-12-07    Australia        NSW   \n5287   OceaniaPF               IPF  2012-12-07    Australia        NSW   \n\n      MeetTown                                           MeetName  \n5283    Syndey  Oceania Powerlifting and Bench Press Champions...  \n5284    Syndey  Oceania Powerlifting and Bench Press Champions...  \n5285    Syndey  Oceania Powerlifting and Bench Press Champions...  \n5286    Syndey  Oceania Powerlifting and Bench Press Champions...  \n5287    Syndey  Oceania Powerlifting and Bench Press Champions...  \n\n[5 rows x 41 columns]",
      "text/html": "<div>\n<style scoped>\n    .dataframe tbody tr th:only-of-type {\n        vertical-align: middle;\n    }\n\n    .dataframe tbody tr th {\n        vertical-align: top;\n    }\n\n    .dataframe thead th {\n        text-align: right;\n    }\n</style>\n<table border=\"1\" class=\"dataframe\">\n  <thead>\n    <tr style=\"text-align: right;\">\n      <th></th>\n      <th>Name</th>\n      <th>Sex</th>\n      <th>Event</th>\n      <th>Equipment</th>\n      <th>Age</th>\n      <th>AgeClass</th>\n      <th>BirthYearClass</th>\n      <th>Division</th>\n      <th>BodyweightKg</th>\n      <th>WeightClassKg</th>\n      <th>...</th>\n      <th>Tested</th>\n      <th>Country</th>\n      <th>State</th>\n      <th>Federation</th>\n      <th>ParentFederation</th>\n      <th>Date</th>\n      <th>MeetCountry</th>\n      <th>MeetState</th>\n      <th>MeetTown</th>\n      <th>MeetName</th>\n    </tr>\n  </thead>\n  <tbody>\n    <tr>\n      <th>5283</th>\n      <td>Ali Gascoine</td>\n      <td>F</td>\n      <td>SBD</td>\n      <td>Raw</td>\n      <td>NaN</td>\n      <td>NaN</td>\n      <td>NaN</td>\n      <td>Open</td>\n      <td>50.6</td>\n      <td>52</td>\n      <td>...</td>\n      <td>True</td>\n      <td>New Zealand</td>\n      <td>&lt;NA&gt;</td>\n      <td>OceaniaPF</td>\n      <td>IPF</td>\n      <td>2012-12-07</td>\n      <td>Australia</td>\n      <td>NSW</td>\n      <td>Syndey</td>\n      <td>Oceania Powerlifting and Bench Press Champions...</td>\n    </tr>\n    <tr>\n      <th>5284</th>\n      <td>Megan Hinchley</td>\n      <td>F</td>\n      <td>SBD</td>\n      <td>Raw</td>\n      <td>30.5</td>\n      <td>24-34</td>\n      <td>24-39</td>\n      <td>Open</td>\n      <td>51.0</td>\n      <td>52</td>\n      <td>...</td>\n      <td>True</td>\n      <td>Australia</td>\n      <td>&lt;NA&gt;</td>\n      <td>OceaniaPF</td>\n      <td>IPF</td>\n      <td>2012-12-07</td>\n      <td>Australia</td>\n      <td>NSW</td>\n      <td>Syndey</td>\n      <td>Oceania Powerlifting and Bench Press Champions...</td>\n    </tr>\n    <tr>\n      <th>5285</th>\n      <td>Mary Macken</td>\n      <td>F</td>\n      <td>SBD</td>\n      <td>Raw</td>\n      <td>50.5</td>\n      <td>50-54</td>\n      <td>50-59</td>\n      <td>Open</td>\n      <td>51.2</td>\n      <td>52</td>\n      <td>...</td>\n      <td>True</td>\n      <td>Australia</td>\n      <td>&lt;NA&gt;</td>\n      <td>OceaniaPF</td>\n      <td>IPF</td>\n      <td>2012-12-07</td>\n      <td>Australia</td>\n      <td>NSW</td>\n      <td>Syndey</td>\n      <td>Oceania Powerlifting and Bench Press Champions...</td>\n    </tr>\n    <tr>\n      <th>5286</th>\n      <td>Rae-Leigh Lyons</td>\n      <td>F</td>\n      <td>SBD</td>\n      <td>Raw</td>\n      <td>20.5</td>\n      <td>20-23</td>\n      <td>19-23</td>\n      <td>Juniors</td>\n      <td>51.5</td>\n      <td>52</td>\n      <td>...</td>\n      <td>True</td>\n      <td>Australia</td>\n      <td>&lt;NA&gt;</td>\n      <td>OceaniaPF</td>\n      <td>IPF</td>\n      <td>2012-12-07</td>\n      <td>Australia</td>\n      <td>NSW</td>\n      <td>Syndey</td>\n      <td>Oceania Powerlifting and Bench Press Champions...</td>\n    </tr>\n    <tr>\n      <th>5287</th>\n      <td>Elizabeth Craven</td>\n      <td>F</td>\n      <td>SBD</td>\n      <td>Raw</td>\n      <td>37.0</td>\n      <td>35-39</td>\n      <td>24-39</td>\n      <td>Open</td>\n      <td>51.8</td>\n      <td>52</td>\n      <td>...</td>\n      <td>True</td>\n      <td>Australia</td>\n      <td>&lt;NA&gt;</td>\n      <td>OceaniaPF</td>\n      <td>IPF</td>\n      <td>2012-12-07</td>\n      <td>Australia</td>\n      <td>NSW</td>\n      <td>Syndey</td>\n      <td>Oceania Powerlifting and Bench Press Champions...</td>\n    </tr>\n  </tbody>\n</table>\n<p>5 rows × 41 columns</p>\n</div>"
     },
     "execution_count": 20,
     "metadata": {},
     "output_type": "execute_result"
    }
   ],
   "source": [
    "australia_df = df[df['MeetCountry'] == 'Australia']\n",
    "australia_df.head()"
   ],
   "metadata": {
    "collapsed": false,
    "ExecuteTime": {
     "end_time": "2024-02-10T01:19:16.751579995Z",
     "start_time": "2024-02-10T01:19:16.717256645Z"
    }
   },
   "id": "1c910a34dd8e2ed1",
   "execution_count": 20
  },
  {
   "cell_type": "code",
   "outputs": [],
   "source": [
    "australia_df.to_csv('data/open-powerlifting-australia.csv')"
   ],
   "metadata": {
    "collapsed": false,
    "ExecuteTime": {
     "end_time": "2024-02-10T01:19:17.362302914Z",
     "start_time": "2024-02-10T01:19:16.741868544Z"
    }
   },
   "id": "6cff31496735c3b9",
   "execution_count": 21
  }
 ],
 "metadata": {
  "kernelspec": {
   "display_name": "Python 3",
   "language": "python",
   "name": "python3"
  },
  "language_info": {
   "codemirror_mode": {
    "name": "ipython",
    "version": 2
   },
   "file_extension": ".py",
   "mimetype": "text/x-python",
   "name": "python",
   "nbconvert_exporter": "python",
   "pygments_lexer": "ipython2",
   "version": "2.7.6"
  }
 },
 "nbformat": 4,
 "nbformat_minor": 5
}
