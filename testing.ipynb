{
 "cells": [
  {
   "cell_type": "code",
   "execution_count": null,
   "id": "initial_id",
   "metadata": {
    "collapsed": true
   },
   "outputs": [],
   "source": [
    "import pandas as pd\n",
    "import streamlit as st\n",
    "import matplotlib.pyplot as plt\n",
    "import seaborn as sns"
   ]
  },
  {
   "cell_type": "code",
   "outputs": [],
   "source": [
    "df = pd.read_csv(\"data/open-powerlifting-australia.csv\")\n",
    "df.dtypes"
   ],
   "metadata": {
    "collapsed": false
   },
   "id": "ae77101ee13fb354",
   "execution_count": null
  },
  {
   "cell_type": "code",
   "outputs": [],
   "source": [
    "df = df[df['Federation'] == 'AusPL']\n",
    "df['Date'] = pd.to_datetime(df['Date'])\n",
    "df['Year'] = df['Date'].dt.year"
   ],
   "metadata": {
    "collapsed": false
   },
   "id": "3b359374ac7f5d99",
   "execution_count": null
  },
  {
   "cell_type": "code",
   "outputs": [],
   "source": [
    "# Widget for selecting the lift type\n",
    "lift_choice = st.selectbox(\"Select Lift Type\", [\"Squat\", \"Bench Press\", \"Deadlift\"])\n",
    "# Mapping user-friendly choices to DataFrame column names\n",
    "lift_map = {\"Squat\": \"Best3SquatKg\", \"Bench Press\": \"Best3BenchKg\", \"Deadlift\": \"Best3DeadliftKg\"}\n",
    "lift_column = lift_map[lift_choice]"
   ],
   "metadata": {
    "collapsed": false
   },
   "id": "482f27436595f0a0",
   "execution_count": null
  },
  {
   "cell_type": "code",
   "outputs": [],
   "source": [
    "# Additional Widgets for Gender and Tested status\n",
    "gender_choice = st.selectbox(\"Select Gender\", [\"M\", \"F\"])\n",
    "tested_choice = st.selectbox(\"Tested or Untested\", [\"True\", \"False\"])"
   ],
   "metadata": {
    "collapsed": false
   },
   "id": "1c78488f17cbe79a",
   "execution_count": null
  },
  {
   "cell_type": "code",
   "outputs": [],
   "source": [
    "filtered_df = df[(df[\"Sex\"] == gender_choice) & (df[\"Tested\"] == (tested_choice == \"True\"))]"
   ],
   "metadata": {
    "collapsed": false
   },
   "id": "7a9d645a8411141b",
   "execution_count": null
  },
  {
   "cell_type": "code",
   "outputs": [],
   "source": [
    "# Mapping user selections to column names\n",
    "lift_map = {\"Squat\": \"Best3SquatKg\", \"Bench Press\": \"Best3BenchKg\", \"Deadlift\": \"Best3DeadliftKg\"}\n",
    "lift_column = lift_map[lift_choice]"
   ],
   "metadata": {
    "collapsed": false
   },
   "id": "c5cd8ad31f3d0844",
   "execution_count": null
  },
  {
   "cell_type": "code",
   "outputs": [],
   "source": [
    "# Step 3: Filtering the data\n",
    "filtered_df = df[(df[\"Sex\"] == gender_choice) & (df[\"Tested\"] == (tested_choice == \"True\"))]"
   ],
   "metadata": {
    "collapsed": false
   },
   "id": "744386e8044281a1",
   "execution_count": null
  },
  {
   "cell_type": "code",
   "outputs": [],
   "source": [
    "filtered_df.head()"
   ],
   "metadata": {
    "collapsed": false
   },
   "id": "5cddb3a623084112",
   "execution_count": null
  },
  {
   "cell_type": "code",
   "outputs": [],
   "source": [
    "filtered_df.dtypes"
   ],
   "metadata": {
    "collapsed": false
   },
   "id": "d332e20a15fb4ecb",
   "execution_count": null
  },
  {
   "cell_type": "code",
   "outputs": [],
   "source": [
    "# Creating the box and whisker plot\n",
    "plt.figure(figsize=(10, 6))\n",
    "sns.boxplot(data=filtered_df, y='WeightClassKg', x=lift_column, hue='Sex')\n",
    "plt.title(f'Distribution of {lift_choice} Weights by Weight Class')\n",
    "plt.xlabel(f'{lift_choice} Weight (kg)')\n",
    "plt.ylabel('Weight Class')\n",
    "plt.xticks(rotation=45)\n",
    "plt.tight_layout()\n",
    "plt.show"
   ],
   "metadata": {
    "collapsed": false
   },
   "id": "90ae6bb5ec857c64",
   "execution_count": null
  },
  {
   "cell_type": "code",
   "outputs": [],
   "source": [
    "from streamlit_app_utils.data_loader import df\n",
    "import streamlit as st\n",
    "import pandas as pd\n",
    "import plotly.graph_objects as go\n",
    "import plotly.express as px"
   ],
   "metadata": {
    "collapsed": false
   },
   "id": "954c791c1a15ecda",
   "execution_count": null
  },
  {
   "cell_type": "code",
   "outputs": [],
   "source": [
    "# Define weight classes for each gender\n",
    "weight_classes_women = ['44', '48', '52', '56', '60', '67.5', '75', '82.5', '90', '100', '110', '110+']\n",
    "weight_classes_women\n",
    "\n",
    "weight_classes_men = ['56', '60', '67.5', '75', '82.5', '90', '100', '110', '125', '140', '140+']\n",
    "weight_classes_men"
   ],
   "metadata": {
    "collapsed": false
   },
   "id": "a61f87423e06237e",
   "execution_count": null
  },
  {
   "cell_type": "code",
   "outputs": [],
   "source": [
    "# Filter by Federation\n",
    "df = df[df['Federation'] == 'AusPL']\n",
    "df"
   ],
   "metadata": {
    "collapsed": false
   },
   "id": "4d4e9fb5e0eabe1",
   "execution_count": null
  },
  {
   "cell_type": "code",
   "outputs": [],
   "source": [
    "# filter by gender\n",
    "df = df[df['Sex'] == 'M']\n",
    "df.head()"
   ],
   "metadata": {
    "collapsed": false
   },
   "id": "8de4a62206f336cf",
   "execution_count": null
  },
  {
   "cell_type": "code",
   "outputs": [],
   "source": [
    "# filter by weight class\n",
    "df = df[df['WeightClassKg'] == '125']\n",
    "df.head()"
   ],
   "metadata": {
    "collapsed": false
   },
   "id": "7abdfca2b68d72f",
   "execution_count": null
  },
  {
   "cell_type": "code",
   "outputs": [],
   "source": [
    "# filter by equipment\n",
    "df = df[df['Equipment'] == 'Single-ply']\n",
    "df.head()"
   ],
   "metadata": {
    "collapsed": false
   },
   "id": "62293a82c87e6d21",
   "execution_count": null
  },
  {
   "cell_type": "code",
   "outputs": [],
   "source": [
    "# filter on tested\n",
    "df = df[df['Tested'] == False]"
   ],
   "metadata": {
    "collapsed": false
   },
   "id": "fe9ff98d0c50149e",
   "execution_count": null
  },
  {
   "cell_type": "code",
   "outputs": [],
   "source": [
    "# sort by TotalKg\n",
    "df = df.sort_values(by='TotalKg', ascending=False)\n",
    "df.head(3)"
   ],
   "metadata": {
    "collapsed": false
   },
   "id": "fdb930387705a8f6",
   "execution_count": null
  }
 ],
 "metadata": {
  "kernelspec": {
   "display_name": "Python 3",
   "language": "python",
   "name": "python3"
  },
  "language_info": {
   "codemirror_mode": {
    "name": "ipython",
    "version": 2
   },
   "file_extension": ".py",
   "mimetype": "text/x-python",
   "name": "python",
   "nbconvert_exporter": "python",
   "pygments_lexer": "ipython2",
   "version": "2.7.6"
  }
 },
 "nbformat": 4,
 "nbformat_minor": 5
}
