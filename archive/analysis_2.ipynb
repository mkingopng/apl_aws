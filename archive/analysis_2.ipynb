{
 "cells": [
  {
   "cell_type": "code",
   "execution_count": 41,
   "id": "initial_id",
   "metadata": {
    "tags": [
     "hide_input"
    ],
    "ExecuteTime": {
     "end_time": "2024-02-10T04:08:35.821416581Z",
     "start_time": "2024-02-10T04:08:35.680969972Z"
    }
   },
   "outputs": [],
   "source": [
    "import pandas as pd\n",
    "# import matplotlib.pyplot as plt"
   ]
  },
  {
   "cell_type": "code",
   "execution_count": 42,
   "id": "d02d433cf6b4d396",
   "metadata": {
    "collapsed": false,
    "tags": [
     "hide_input"
    ],
    "ExecuteTime": {
     "end_time": "2024-02-10T04:08:35.830173321Z",
     "start_time": "2024-02-10T04:08:35.823176307Z"
    }
   },
   "outputs": [],
   "source": [
    "dtype_dict = {\n",
    "    'State': 'string',\n",
    "    'ParentFederation': 'string',\n",
    "    'MeetState': 'string',\n",
    "    'Bench4kg': 'float'\n",
    "}"
   ]
  },
  {
   "cell_type": "code",
   "execution_count": 43,
   "id": "9b8db2825ef8a29b",
   "metadata": {
    "collapsed": false,
    "tags": [
     "hide_input"
    ],
    "ExecuteTime": {
     "end_time": "2024-02-10T04:08:35.840556625Z",
     "start_time": "2024-02-10T04:08:35.830898405Z"
    }
   },
   "outputs": [],
   "source": [
    "# Define a converter function that converts \"Yes\" to True and empty values to False\n",
    "def yes_no_to_bool(value):\n",
    "    if value == 'Yes':\n",
    "        return True\n",
    "    else:\n",
    "        # Treats anything not \"Yes\" (including empty values) as False\n",
    "        return False"
   ]
  },
  {
   "cell_type": "code",
   "execution_count": 44,
   "id": "39309778e4f3e3bc",
   "metadata": {
    "collapsed": false,
    "tags": [
     "hide_input"
    ],
    "ExecuteTime": {
     "end_time": "2024-02-10T04:08:43.557583073Z",
     "start_time": "2024-02-10T04:08:35.838798111Z"
    }
   },
   "outputs": [],
   "source": [
    "df = pd. read_csv('data/openpowerlifting-2024.csv', dtype=dtype_dict, converters= {'Tested': yes_no_to_bool})\n",
    "# df.head()"
   ]
  },
  {
   "cell_type": "code",
   "execution_count": 45,
   "id": "5093250c9cdcc057",
   "metadata": {
    "collapsed": false,
    "tags": [
     "hide_input"
    ],
    "ExecuteTime": {
     "end_time": "2024-02-10T04:08:43.599498500Z",
     "start_time": "2024-02-10T04:08:43.598509425Z"
    }
   },
   "outputs": [],
   "source": [
    "# df.columns"
   ]
  },
  {
   "cell_type": "code",
   "execution_count": 46,
   "id": "fc5be87dcef98018",
   "metadata": {
    "collapsed": false,
    "tags": [
     "hide_input"
    ],
    "ExecuteTime": {
     "end_time": "2024-02-10T04:08:43.764850192Z",
     "start_time": "2024-02-10T04:08:43.598628050Z"
    }
   },
   "outputs": [
    {
     "data": {
      "text/plain": "                     Name Sex Event Equipment   Age AgeClass BirthYearClass  \\\n2052087   Shamira Dabwido   F   SBD       Raw  19.0    18-19          19-23   \n2052088     Sami Carberry   F   SBD       Raw  20.0    20-23          19-23   \n2052089    Chloe Campbell   F   SBD     Wraps  20.0    20-23          19-23   \n2052090       Renee Patel   F   SBD     Wraps  21.0    20-23          19-23   \n2052091  Alessandra Perry   F   SBD       Raw  23.0    20-23            NaN   \n\n        Division  BodyweightKg WeightClassKg  ...  Tested  Country  State  \\\n2052087   J15-19          74.0            75  ...   False      NaN   <NA>   \n2052088   J20-23          51.0            52  ...   False      NaN   <NA>   \n2052089   J20-23          53.7            56  ...   False      USA   <NA>   \n2052090   J20-23          65.3          67.5  ...   False      NaN   <NA>   \n2052091   J20-23          73.6            75  ...   False      NaN   <NA>   \n\n         Federation  ParentFederation        Date  MeetCountry  MeetState  \\\n2052087       AusPL              <NA>  2023-07-09    Australia        QLD   \n2052088       AusPL              <NA>  2023-07-09    Australia        QLD   \n2052089       AusPL              <NA>  2023-07-09    Australia        QLD   \n2052090       AusPL              <NA>  2023-07-09    Australia        QLD   \n2052091       AusPL              <NA>  2023-07-09    Australia        QLD   \n\n         MeetTown            MeetName  \n2052087  Brisbane  Strength Quest III  \n2052088  Brisbane  Strength Quest III  \n2052089  Brisbane  Strength Quest III  \n2052090  Brisbane  Strength Quest III  \n2052091  Brisbane  Strength Quest III  \n\n[5 rows x 41 columns]",
      "text/html": "<div>\n<style scoped>\n    .dataframe tbody tr th:only-of-type {\n        vertical-align: middle;\n    }\n\n    .dataframe tbody tr th {\n        vertical-align: top;\n    }\n\n    .dataframe thead th {\n        text-align: right;\n    }\n</style>\n<table border=\"1\" class=\"dataframe\">\n  <thead>\n    <tr style=\"text-align: right;\">\n      <th></th>\n      <th>Name</th>\n      <th>Sex</th>\n      <th>Event</th>\n      <th>Equipment</th>\n      <th>Age</th>\n      <th>AgeClass</th>\n      <th>BirthYearClass</th>\n      <th>Division</th>\n      <th>BodyweightKg</th>\n      <th>WeightClassKg</th>\n      <th>...</th>\n      <th>Tested</th>\n      <th>Country</th>\n      <th>State</th>\n      <th>Federation</th>\n      <th>ParentFederation</th>\n      <th>Date</th>\n      <th>MeetCountry</th>\n      <th>MeetState</th>\n      <th>MeetTown</th>\n      <th>MeetName</th>\n    </tr>\n  </thead>\n  <tbody>\n    <tr>\n      <th>2052087</th>\n      <td>Shamira Dabwido</td>\n      <td>F</td>\n      <td>SBD</td>\n      <td>Raw</td>\n      <td>19.0</td>\n      <td>18-19</td>\n      <td>19-23</td>\n      <td>J15-19</td>\n      <td>74.0</td>\n      <td>75</td>\n      <td>...</td>\n      <td>False</td>\n      <td>NaN</td>\n      <td>&lt;NA&gt;</td>\n      <td>AusPL</td>\n      <td>&lt;NA&gt;</td>\n      <td>2023-07-09</td>\n      <td>Australia</td>\n      <td>QLD</td>\n      <td>Brisbane</td>\n      <td>Strength Quest III</td>\n    </tr>\n    <tr>\n      <th>2052088</th>\n      <td>Sami Carberry</td>\n      <td>F</td>\n      <td>SBD</td>\n      <td>Raw</td>\n      <td>20.0</td>\n      <td>20-23</td>\n      <td>19-23</td>\n      <td>J20-23</td>\n      <td>51.0</td>\n      <td>52</td>\n      <td>...</td>\n      <td>False</td>\n      <td>NaN</td>\n      <td>&lt;NA&gt;</td>\n      <td>AusPL</td>\n      <td>&lt;NA&gt;</td>\n      <td>2023-07-09</td>\n      <td>Australia</td>\n      <td>QLD</td>\n      <td>Brisbane</td>\n      <td>Strength Quest III</td>\n    </tr>\n    <tr>\n      <th>2052089</th>\n      <td>Chloe Campbell</td>\n      <td>F</td>\n      <td>SBD</td>\n      <td>Wraps</td>\n      <td>20.0</td>\n      <td>20-23</td>\n      <td>19-23</td>\n      <td>J20-23</td>\n      <td>53.7</td>\n      <td>56</td>\n      <td>...</td>\n      <td>False</td>\n      <td>USA</td>\n      <td>&lt;NA&gt;</td>\n      <td>AusPL</td>\n      <td>&lt;NA&gt;</td>\n      <td>2023-07-09</td>\n      <td>Australia</td>\n      <td>QLD</td>\n      <td>Brisbane</td>\n      <td>Strength Quest III</td>\n    </tr>\n    <tr>\n      <th>2052090</th>\n      <td>Renee Patel</td>\n      <td>F</td>\n      <td>SBD</td>\n      <td>Wraps</td>\n      <td>21.0</td>\n      <td>20-23</td>\n      <td>19-23</td>\n      <td>J20-23</td>\n      <td>65.3</td>\n      <td>67.5</td>\n      <td>...</td>\n      <td>False</td>\n      <td>NaN</td>\n      <td>&lt;NA&gt;</td>\n      <td>AusPL</td>\n      <td>&lt;NA&gt;</td>\n      <td>2023-07-09</td>\n      <td>Australia</td>\n      <td>QLD</td>\n      <td>Brisbane</td>\n      <td>Strength Quest III</td>\n    </tr>\n    <tr>\n      <th>2052091</th>\n      <td>Alessandra Perry</td>\n      <td>F</td>\n      <td>SBD</td>\n      <td>Raw</td>\n      <td>23.0</td>\n      <td>20-23</td>\n      <td>NaN</td>\n      <td>J20-23</td>\n      <td>73.6</td>\n      <td>75</td>\n      <td>...</td>\n      <td>False</td>\n      <td>NaN</td>\n      <td>&lt;NA&gt;</td>\n      <td>AusPL</td>\n      <td>&lt;NA&gt;</td>\n      <td>2023-07-09</td>\n      <td>Australia</td>\n      <td>QLD</td>\n      <td>Brisbane</td>\n      <td>Strength Quest III</td>\n    </tr>\n  </tbody>\n</table>\n<p>5 rows × 41 columns</p>\n</div>"
     },
     "execution_count": 46,
     "metadata": {},
     "output_type": "execute_result"
    }
   ],
   "source": [
    "filtered_df = df[df['Federation'] == 'AusPL']\n",
    "filtered_df.head()"
   ]
  },
  {
   "cell_type": "code",
   "execution_count": 47,
   "id": "992d236992cdef22",
   "metadata": {
    "collapsed": false,
    "tags": [
     "hide_input"
    ],
    "ExecuteTime": {
     "end_time": "2024-02-10T04:08:43.878831422Z",
     "start_time": "2024-02-10T04:08:43.765819088Z"
    }
   },
   "outputs": [
    {
     "data": {
      "text/plain": "array(['Strength Quest III', 'Drug Tested Nationals',\n       'Deep North Powerlifting Challenge', 'Open',\n       'Last Chance Qualifier', 'NSW State Championships',\n       'Gold Coast Cup', 'Lift3 Winter Cup', 'ZeroW Christmas Cup',\n       'NSW States', 'Spring Classic', 'Strength HQ Christmas Cup Open',\n       'Open Anzac International', 'End Of Year Send Drug Tested',\n       'Tested Nationals', 'Sydney Competition',\n       'Champions of Geelong Open', 'Northern Classic Tested',\n       'Open National Championships', 'NSW State Titles',\n       'Drug Tested Anzac International', 'National Qualifier',\n       'Christmas Classic', 'Townsville Cup Drug Tested',\n       'Strength Quest II', 'Victorian State Titles',\n       'Deep North Deadlift Derby', 'Drug Tested National Championships',\n       'WA Classic Drug Tested Raw Championships',\n       \"Ben's Army Services Tribute\", 'VIC State Titles',\n       'Strength HQ Nationals Qualifier', 'QLD State Championships',\n       'StrengthHQ Christmas Cup Tested', 'VIC States',\n       'Drug Tested Winter Warm Up', 'National Push/Pull',\n       'Victoria States', 'March Cup', 'QLD States', 'Showdown',\n       'Christmas Cup', 'QLD Christmas Cup Open',\n       'WA Drug Tested State Championships', 'Northern Classic Open',\n       'VIC Last Chance Qualifier', 'Champions of Geelong Drug Tested',\n       'Storiestrong Iron Classic', 'Yeti Classic',\n       'Lift3 Tested Qualifier', 'Ultimatum', 'Lift3 Christmas Cup',\n       'BNB Brawl', 'BNB Blast X', 'APL Nationals Qualifier',\n       'Cairns Cup', 'National Titles',\n       'WA Drug Tested Raw State Powerlifting Championships',\n       'Open Nationals', 'Strength Quest', 'QLD State Titles',\n       'Leaders Of The North', 'Hobart Cup', 'WA State Championships',\n       'Ethos Cup', 'BNB Bash X', 'Queensland State',\n       'QLD Christmas Cup Tested', 'Defiance', 'Nationals',\n       'End Of Year Send Open', 'ACT State Championships', 'ZeroW Pro',\n       'Complete Strength Open', 'Victorian Open',\n       'SA State Championships', 'Strength HQ Winter Cup',\n       'Drug Tested Regional Champs',\n       'WA State Powerlifting Championships', 'Townsville Cup Open',\n       'Lift3 Last Chance Qualifier'], dtype=object)"
     },
     "execution_count": 47,
     "metadata": {},
     "output_type": "execute_result"
    }
   ],
   "source": [
    "filtered_df['MeetName'].unique()"
   ]
  },
  {
   "cell_type": "code",
   "execution_count": 48,
   "id": "b6f1923482b8f11e",
   "metadata": {
    "collapsed": false,
    "tags": [
     "hide_input"
    ],
    "ExecuteTime": {
     "end_time": "2024-02-10T04:08:43.879658620Z",
     "start_time": "2024-02-10T04:08:43.839894140Z"
    }
   },
   "outputs": [],
   "source": [
    "filtered_df_copy = filtered_df.copy()\n",
    "\n",
    "# Convert 'Date' to datetime and extract the year\n",
    "filtered_df_copy['Date'] = pd.to_datetime(filtered_df_copy['Date'])\n",
    "filtered_df_copy['Year'] = filtered_df_copy['Date'].dt.year"
   ]
  },
  {
   "cell_type": "code",
   "execution_count": 49,
   "id": "f2abfcd2b590d5c6",
   "metadata": {
    "collapsed": false,
    "tags": [
     "hide_input"
    ],
    "ExecuteTime": {
     "end_time": "2024-02-10T04:08:43.890935918Z",
     "start_time": "2024-02-10T04:08:43.851273792Z"
    }
   },
   "outputs": [
    {
     "data": {
      "text/plain": "Year\n2015     5\n2018     4\n2019     4\n2020     5\n2021     8\n2022    19\n2023    44\nName: MeetName, dtype: int64"
     },
     "execution_count": 49,
     "metadata": {},
     "output_type": "execute_result"
    }
   ],
   "source": [
    "yearly_meet_counts = filtered_df_copy.groupby('Year')['MeetName'].nunique()\n",
    "yearly_meet_counts"
   ]
  },
  {
   "cell_type": "code",
   "execution_count": 50,
   "id": "d97914428cf42d4a",
   "metadata": {
    "collapsed": false,
    "tags": [
     "hide_input"
    ],
    "ExecuteTime": {
     "end_time": "2024-02-10T04:08:43.910051585Z",
     "start_time": "2024-02-10T04:08:43.861771171Z"
    }
   },
   "outputs": [
    {
     "ename": "ImportError",
     "evalue": "matplotlib is required for plotting when the default backend \"matplotlib\" is selected.",
     "output_type": "error",
     "traceback": [
      "\u001B[0;31m---------------------------------------------------------------------------\u001B[0m",
      "\u001B[0;31mImportError\u001B[0m                               Traceback (most recent call last)",
      "Cell \u001B[0;32mIn[50], line 1\u001B[0m\n\u001B[0;32m----> 1\u001B[0m \u001B[43myearly_meet_counts\u001B[49m\u001B[38;5;241;43m.\u001B[39;49m\u001B[43mplot\u001B[49m\u001B[43m(\u001B[49m\u001B[43mkind\u001B[49m\u001B[38;5;241;43m=\u001B[39;49m\u001B[38;5;124;43m'\u001B[39;49m\u001B[38;5;124;43mbar\u001B[39;49m\u001B[38;5;124;43m'\u001B[39;49m\u001B[43m,\u001B[49m\u001B[43m \u001B[49m\u001B[43mfigsize\u001B[49m\u001B[38;5;241;43m=\u001B[39;49m\u001B[43m(\u001B[49m\u001B[38;5;241;43m10\u001B[39;49m\u001B[43m,\u001B[49m\u001B[43m \u001B[49m\u001B[38;5;241;43m6\u001B[39;49m\u001B[43m)\u001B[49m\u001B[43m)\u001B[49m \u001B[38;5;66;03m# You can adjust the figure size as needed\u001B[39;00m\n\u001B[1;32m      2\u001B[0m plt\u001B[38;5;241m.\u001B[39mtitle(\u001B[38;5;124m'\u001B[39m\u001B[38;5;124mUnique MeetNames per Year\u001B[39m\u001B[38;5;124m'\u001B[39m)\n\u001B[1;32m      3\u001B[0m plt\u001B[38;5;241m.\u001B[39mxlabel(\u001B[38;5;124m'\u001B[39m\u001B[38;5;124mYear\u001B[39m\u001B[38;5;124m'\u001B[39m)\n",
      "File \u001B[0;32m~/.cache/pypoetry/virtualenvs/apl-aws-jj6DSB5b-py3.12/lib/python3.12/site-packages/pandas/plotting/_core.py:947\u001B[0m, in \u001B[0;36mPlotAccessor.__call__\u001B[0;34m(self, *args, **kwargs)\u001B[0m\n\u001B[1;32m    946\u001B[0m \u001B[38;5;28;01mdef\u001B[39;00m \u001B[38;5;21m__call__\u001B[39m(\u001B[38;5;28mself\u001B[39m, \u001B[38;5;241m*\u001B[39margs, \u001B[38;5;241m*\u001B[39m\u001B[38;5;241m*\u001B[39mkwargs):\n\u001B[0;32m--> 947\u001B[0m     plot_backend \u001B[38;5;241m=\u001B[39m \u001B[43m_get_plot_backend\u001B[49m\u001B[43m(\u001B[49m\u001B[43mkwargs\u001B[49m\u001B[38;5;241;43m.\u001B[39;49m\u001B[43mpop\u001B[49m\u001B[43m(\u001B[49m\u001B[38;5;124;43m\"\u001B[39;49m\u001B[38;5;124;43mbackend\u001B[39;49m\u001B[38;5;124;43m\"\u001B[39;49m\u001B[43m,\u001B[49m\u001B[43m \u001B[49m\u001B[38;5;28;43;01mNone\u001B[39;49;00m\u001B[43m)\u001B[49m\u001B[43m)\u001B[49m\n\u001B[1;32m    949\u001B[0m     x, y, kind, kwargs \u001B[38;5;241m=\u001B[39m \u001B[38;5;28mself\u001B[39m\u001B[38;5;241m.\u001B[39m_get_call_args(\n\u001B[1;32m    950\u001B[0m         plot_backend\u001B[38;5;241m.\u001B[39m\u001B[38;5;18m__name__\u001B[39m, \u001B[38;5;28mself\u001B[39m\u001B[38;5;241m.\u001B[39m_parent, args, kwargs\n\u001B[1;32m    951\u001B[0m     )\n\u001B[1;32m    953\u001B[0m     kind \u001B[38;5;241m=\u001B[39m \u001B[38;5;28mself\u001B[39m\u001B[38;5;241m.\u001B[39m_kind_aliases\u001B[38;5;241m.\u001B[39mget(kind, kind)\n",
      "File \u001B[0;32m~/.cache/pypoetry/virtualenvs/apl-aws-jj6DSB5b-py3.12/lib/python3.12/site-packages/pandas/plotting/_core.py:1944\u001B[0m, in \u001B[0;36m_get_plot_backend\u001B[0;34m(backend)\u001B[0m\n\u001B[1;32m   1941\u001B[0m \u001B[38;5;28;01mif\u001B[39;00m backend_str \u001B[38;5;129;01min\u001B[39;00m _backends:\n\u001B[1;32m   1942\u001B[0m     \u001B[38;5;28;01mreturn\u001B[39;00m _backends[backend_str]\n\u001B[0;32m-> 1944\u001B[0m module \u001B[38;5;241m=\u001B[39m \u001B[43m_load_backend\u001B[49m\u001B[43m(\u001B[49m\u001B[43mbackend_str\u001B[49m\u001B[43m)\u001B[49m\n\u001B[1;32m   1945\u001B[0m _backends[backend_str] \u001B[38;5;241m=\u001B[39m module\n\u001B[1;32m   1946\u001B[0m \u001B[38;5;28;01mreturn\u001B[39;00m module\n",
      "File \u001B[0;32m~/.cache/pypoetry/virtualenvs/apl-aws-jj6DSB5b-py3.12/lib/python3.12/site-packages/pandas/plotting/_core.py:1874\u001B[0m, in \u001B[0;36m_load_backend\u001B[0;34m(backend)\u001B[0m\n\u001B[1;32m   1872\u001B[0m         module \u001B[38;5;241m=\u001B[39m importlib\u001B[38;5;241m.\u001B[39mimport_module(\u001B[38;5;124m\"\u001B[39m\u001B[38;5;124mpandas.plotting._matplotlib\u001B[39m\u001B[38;5;124m\"\u001B[39m)\n\u001B[1;32m   1873\u001B[0m     \u001B[38;5;28;01mexcept\u001B[39;00m \u001B[38;5;167;01mImportError\u001B[39;00m:\n\u001B[0;32m-> 1874\u001B[0m         \u001B[38;5;28;01mraise\u001B[39;00m \u001B[38;5;167;01mImportError\u001B[39;00m(\n\u001B[1;32m   1875\u001B[0m             \u001B[38;5;124m\"\u001B[39m\u001B[38;5;124mmatplotlib is required for plotting when the \u001B[39m\u001B[38;5;124m\"\u001B[39m\n\u001B[1;32m   1876\u001B[0m             \u001B[38;5;124m'\u001B[39m\u001B[38;5;124mdefault backend \u001B[39m\u001B[38;5;124m\"\u001B[39m\u001B[38;5;124mmatplotlib\u001B[39m\u001B[38;5;124m\"\u001B[39m\u001B[38;5;124m is selected.\u001B[39m\u001B[38;5;124m'\u001B[39m\n\u001B[1;32m   1877\u001B[0m         ) \u001B[38;5;28;01mfrom\u001B[39;00m \u001B[38;5;28;01mNone\u001B[39;00m\n\u001B[1;32m   1878\u001B[0m     \u001B[38;5;28;01mreturn\u001B[39;00m module\n\u001B[1;32m   1880\u001B[0m found_backend \u001B[38;5;241m=\u001B[39m \u001B[38;5;28;01mFalse\u001B[39;00m\n",
      "\u001B[0;31mImportError\u001B[0m: matplotlib is required for plotting when the default backend \"matplotlib\" is selected."
     ]
    }
   ],
   "source": [
    "yearly_meet_counts.plot(kind='bar', figsize=(10, 6)) # You can adjust the figure size as needed\n",
    "plt.title('Unique MeetNames per Year')\n",
    "plt.xlabel('Year')\n",
    "plt.ylabel('Unique MeetNames Count')\n",
    "plt.xticks(rotation=90) # Rotate labels to make them readable\n",
    "plt.tight_layout() # Adjusts subplot params so that the subplot(s) fits into the figure area\n",
    "plt.show()"
   ]
  },
  {
   "cell_type": "markdown",
   "id": "216ac4b53eb794bc",
   "metadata": {
    "collapsed": false
   },
   "source": [
    "The number of Meets per year has been increasing. A big dip in COVID but has rebounded. But is the number of meets a good representation of the growth of the sport? Useful but incomplete"
   ]
  },
  {
   "cell_type": "markdown",
   "id": "67a4ae1c046dad89",
   "metadata": {
    "collapsed": false
   },
   "source": [
    "How many lifters have competed in AusPL meets each year?"
   ]
  },
  {
   "cell_type": "code",
   "execution_count": null,
   "id": "51649875fc35f088",
   "metadata": {
    "collapsed": false,
    "tags": [
     "hide_input"
    ],
    "ExecuteTime": {
     "start_time": "2024-02-10T04:08:43.906628796Z"
    }
   },
   "outputs": [],
   "source": [
    "yearly_lifter_counts = filtered_df_copy.groupby('Year')['Name'].count()\n",
    "yearly_lifter_counts"
   ]
  },
  {
   "cell_type": "code",
   "execution_count": null,
   "id": "c4f44adad2681ab7",
   "metadata": {
    "collapsed": false,
    "tags": [
     "hide_input"
    ],
    "ExecuteTime": {
     "start_time": "2024-02-10T04:08:43.906780895Z"
    }
   },
   "outputs": [],
   "source": [
    "yearly_lifter_counts.plot(kind='bar', figsize=(10, 6))\n",
    "plt.title('Total Number of Competitors per Year')\n",
    "plt.xlabel('Year')\n",
    "plt.ylabel('Total Participations')\n",
    "plt.xticks(rotation=45)  # Rotate x-axis labels to make them readable\n",
    "plt.yticks(rotation=0)  # Ensure y-axis labels are vertical\n",
    "plt.tight_layout()  # Adjust subplot params so that the subplot(s) fits into the figure area\n",
    "plt.show()"
   ]
  },
  {
   "cell_type": "markdown",
   "id": "632835037c2f2846",
   "metadata": {
    "collapsed": false,
    "tags": [
     "hide_input"
    ]
   },
   "source": [
    "number of unique lifters per year"
   ]
  },
  {
   "cell_type": "code",
   "execution_count": null,
   "id": "4e060c8404bebaf7",
   "metadata": {
    "collapsed": false,
    "tags": [
     "hide_input"
    ],
    "ExecuteTime": {
     "start_time": "2024-02-10T04:08:43.906845056Z"
    }
   },
   "outputs": [],
   "source": [
    "lifters_per_year = filtered_df_copy.groupby('Year')['Name'].nunique()\n",
    "lifters_per_year"
   ]
  },
  {
   "cell_type": "code",
   "execution_count": null,
   "id": "b3c16dc04a190d4c",
   "metadata": {
    "collapsed": false,
    "tags": [
     "hide_input"
    ],
    "ExecuteTime": {
     "start_time": "2024-02-10T04:08:43.906905350Z"
    }
   },
   "outputs": [],
   "source": [
    "lifters_per_year.plot(kind='bar', figsize=(10, 6))\n",
    "plt.title('Number of Unique Lifters per Year')\n",
    "plt.xlabel('Year')\n",
    "plt.ylabel('Number of Lifters')\n",
    "plt.xticks(rotation=45)  # Rotate x-axis labels to make them readable\n",
    "plt.yticks(rotation=0)  # Ensure y-axis labels are vertical\n",
    "plt.tight_layout()  # Adjusts subplot params so that the subplot(s) fits into the figure area\n",
    "plt.show()"
   ]
  },
  {
   "cell_type": "markdown",
   "id": "3b6840ca518428f5",
   "metadata": {
    "collapsed": false
   },
   "source": [
    "# How many times have lifters competed each year"
   ]
  },
  {
   "cell_type": "code",
   "execution_count": null,
   "id": "998def2537e77b08",
   "metadata": {
    "collapsed": false,
    "tags": [
     "hide_input"
    ],
    "ExecuteTime": {
     "start_time": "2024-02-10T04:08:43.906946098Z"
    }
   },
   "outputs": [],
   "source": [
    "competitions_per_lifter_yearly = filtered_df_copy.groupby(['Year', 'Name']).size().reset_index(name='Competitions')"
   ]
  },
  {
   "cell_type": "code",
   "execution_count": null,
   "id": "318915f7f5e6043b",
   "metadata": {
    "collapsed": false,
    "tags": [
     "hide_input"
    ],
    "ExecuteTime": {
     "start_time": "2024-02-10T04:08:43.907055245Z"
    }
   },
   "outputs": [],
   "source": [
    "times_competing_pa = competitions_per_lifter_yearly.groupby(['Year', 'Competitions']).size().unstack(fill_value=0)\n",
    "times_competing_pa"
   ]
  },
  {
   "cell_type": "markdown",
   "id": "1294b54dbf0c701b",
   "metadata": {
    "collapsed": false
   },
   "source": [
    "is this real? who are the people who competed 8 times in 2023?"
   ]
  },
  {
   "cell_type": "code",
   "execution_count": null,
   "id": "1f3f7629349e7540",
   "metadata": {
    "collapsed": false,
    "tags": [
     "hide_input"
    ],
    "ExecuteTime": {
     "start_time": "2024-02-10T04:08:43.907108205Z"
    }
   },
   "outputs": [],
   "source": [
    "eight_comps_23 = competitions_per_lifter_yearly[(competitions_per_lifter_yearly['Year'] == 2023) & (competitions_per_lifter_yearly['Competitions'] == 8)]\n",
    "eight_comps_23.head()"
   ]
  },
  {
   "cell_type": "markdown",
   "id": "9e1124072f58c65c",
   "metadata": {
    "collapsed": false
   },
   "source": [
    "# How has the gender distribution changed over time?"
   ]
  },
  {
   "cell_type": "code",
   "execution_count": null,
   "id": "c86e1cb2a1ec2897",
   "metadata": {
    "collapsed": false,
    "tags": [
     "hide_input"
    ],
    "ExecuteTime": {
     "start_time": "2024-02-10T04:08:43.907137881Z"
    }
   },
   "outputs": [],
   "source": [
    "# group by 'Year' and 'Gender' and count competitors\n",
    "gender_distribution_yearly = filtered_df_copy.groupby(['Year', 'Sex']).size().unstack(fill_value=0)\n",
    "\n",
    "# calculate the total competitors per year\n",
    "gender_distribution_yearly['Total'] = gender_distribution_yearly.sum(axis=1)\n",
    "\n",
    "# calculate the percentage of total for each gender\n",
    "gender_distribution_yearly['% Male'] = ((gender_distribution_yearly['M'] / gender_distribution_yearly['Total']) * 100).round(0)\n",
    "gender_distribution_yearly['% Female'] = ((gender_distribution_yearly['F'] / gender_distribution_yearly['Total']) * 100).round(0)\n",
    "\n",
    "# display the updated DataFrame\n",
    "gender_distribution_yearly"
   ]
  },
  {
   "cell_type": "code",
   "execution_count": null,
   "id": "30e15ee509c1e4f6",
   "metadata": {
    "collapsed": false,
    "tags": [
     "hide_input"
    ],
    "ExecuteTime": {
     "start_time": "2024-02-10T04:08:43.907167437Z"
    }
   },
   "outputs": [],
   "source": [
    "gender_distribution_yearly[['F', 'M']].plot(kind='bar', figsize=(12, 6))\n",
    "plt.title('Number of Competitors by Gender Each Year')\n",
    "plt.xlabel('Year')\n",
    "plt.ylabel('Number of Competitors')\n",
    "plt.xticks(rotation=45)\n",
    "plt.legend(title='Gender')\n",
    "plt.tight_layout()\n",
    "plt.show()"
   ]
  },
  {
   "cell_type": "code",
   "execution_count": null,
   "id": "83c96024586076ef",
   "metadata": {
    "collapsed": false,
    "tags": [
     "hide_input"
    ],
    "ExecuteTime": {
     "start_time": "2024-02-10T04:08:43.907204668Z"
    }
   },
   "outputs": [],
   "source": [
    "# plotting the gender distribution as a stacked bar chart\n",
    "gender_distribution_yearly[['F', 'M']].plot(kind='bar', stacked=True, figsize=(12, 6))\n",
    "plt.title('Number of Competitors by Gender Each Year (Stacked)')\n",
    "plt.xlabel('Year')\n",
    "plt.ylabel('Number of Competitors')\n",
    "plt.xticks(rotation=45)\n",
    "plt.legend(title='Gender')\n",
    "plt.tight_layout()\n",
    "plt.show()"
   ]
  },
  {
   "cell_type": "markdown",
   "id": "bc012a370f277e0b",
   "metadata": {
    "collapsed": false
   },
   "source": [
    "# Which lifters have the highest totals by weight class?"
   ]
  },
  {
   "cell_type": "code",
   "execution_count": null,
   "id": "ecd9a950c0270ba7",
   "metadata": {
    "collapsed": false,
    "tags": [
     "hide_input"
    ],
    "ExecuteTime": {
     "start_time": "2024-02-10T04:08:43.937823882Z"
    }
   },
   "outputs": [],
   "source": [
    "# Group by 'WeightClassKg', 'Equipment', 'Tested' and find the maximum 'TotalKg'\n",
    "max_totals = filtered_df_copy.groupby(['WeightClassKg', 'Equipment', 'Tested'])['TotalKg'].max().reset_index()\n",
    "\n",
    "# merge this back with the original DataFrame to find the corresponding lifter(s)\n",
    "top_lifters = pd.merge(max_totals, filtered_df, on=['WeightClassKg', 'Equipment', 'Tested', 'TotalKg'], how='left')\n",
    "\n",
    "# Select only the relevant columns to avoid duplicates, assuming 'Name' is the column for lifter names\n",
    "_top_lifters = top_lifters[['Name', 'WeightClassKg', 'Equipment', 'Tested', 'TotalKg']]\n",
    "\n",
    "# print(_top_lifters)"
   ]
  },
  {
   "cell_type": "code",
   "execution_count": null,
   "id": "728a6eeee69ebd7d",
   "metadata": {
    "collapsed": false,
    "tags": [
     "hide_input"
    ],
    "ExecuteTime": {
     "start_time": "2024-02-10T04:08:43.937950021Z"
    }
   },
   "outputs": [],
   "source": [
    "sorted_top_lifters = top_lifters.sort_values(by=['Tested', 'Equipment', 'Sex', 'WeightClassKg'], ascending=[True, True, True, True])\n",
    "_sorted_top_lifters = sorted_top_lifters[['Name', 'WeightClassKg', 'Equipment', 'Tested', 'TotalKg', 'Date']]\n",
    "# _sorted_top_lifters"
   ]
  },
  {
   "cell_type": "code",
   "execution_count": null,
   "id": "c70592ea3b6b611f",
   "metadata": {
    "collapsed": false,
    "tags": [
     "hide_input"
    ],
    "ExecuteTime": {
     "start_time": "2024-02-10T04:08:43.938009083Z"
    }
   },
   "outputs": [],
   "source": [
    "# Initialize an empty dictionary to hold the split DataFrames\n",
    "dfs = {}\n",
    "\n",
    "# Iterate over each combination of Gender, Tested, and Equipment\n",
    "for gender in sorted_top_lifters['Sex'].unique():\n",
    "    for tested in sorted_top_lifters['Tested'].unique():\n",
    "        for equipment in sorted_top_lifters['Equipment'].unique():\n",
    "            # Create a key for the dictionary\n",
    "            key = f\"{gender}_{tested}_{equipment}\"\n",
    "            \n",
    "            # Filter the DataFrame for the current combination\n",
    "            df_filtered = sorted_top_lifters[\n",
    "                (sorted_top_lifters['Sex'] == gender) &\n",
    "                (sorted_top_lifters['Tested'] == tested) &\n",
    "                (sorted_top_lifters['Equipment'] == equipment)\n",
    "                ]\n",
    "            \n",
    "            # Only add to dictionary if the filtered DataFrame is not empty\n",
    "            if not df_filtered.empty:\n",
    "                dfs[key] = df_filtered\n"
   ]
  },
  {
   "cell_type": "code",
   "execution_count": null,
   "id": "4de2fc462828fa96",
   "metadata": {
    "collapsed": false,
    "tags": [
     "hide_input"
    ],
    "ExecuteTime": {
     "start_time": "2024-02-10T04:08:43.938062975Z"
    }
   },
   "outputs": [],
   "source": [
    "# Male & not tested, equipment=Raw\n",
    "male_not_tested_raw = dfs['M_False_Raw']\n",
    "\n",
    "# Male & not tested, equipment=Wraps\n",
    "male_not_tested_wraps = dfs['M_False_Wraps']\n",
    "\n",
    "# Male & not tested, equipment=Single-ply\n",
    "male_not_tested_single_ply = dfs['M_False_Single-ply']\n",
    "\n",
    "# Male & not tested, equipment=Multi-ply\n",
    "male_not_tested_multi_ply = dfs['M_False_Multi-ply']\n",
    "\n",
    "# Female & not tested, equipment=Raw\n",
    "female_not_tested_raw = dfs['F_False_Raw']\n",
    "\n",
    "# Female & not tested, equipment=Wraps\n",
    "female_not_tested_wraps = dfs['F_False_Wraps']\n",
    "\n",
    "# Female & not tested, equipment=Single-ply\n",
    "female_not_tested_single_ply = dfs['F_False_Single-ply']\n",
    "\n",
    "# Female & not tested, equipment=Multi-ply\n",
    "female_not_tested_multi_ply = dfs['F_False_Multi-ply']\n",
    "\n",
    "# Male & tested, equipment=Raw\n",
    "male_tested_raw = dfs['M_True_Raw']\n",
    "\n",
    "# Female & tested, equipment=Raw\n",
    "female_tested_raw = dfs['F_True_Raw']"
   ]
  },
  {
   "cell_type": "markdown",
   "id": "2b2b53cc000f5e6a",
   "metadata": {
    "collapsed": false
   },
   "source": [
    "# male untested raw records"
   ]
  },
  {
   "cell_type": "code",
   "execution_count": null,
   "id": "bd4ff9109de2c73c",
   "metadata": {
    "collapsed": false,
    "tags": [
     "hide_input"
    ],
    "ExecuteTime": {
     "start_time": "2024-02-10T04:08:43.938126776Z"
    }
   },
   "outputs": [],
   "source": [
    "male_not_tested_raw[['Name', 'WeightClassKg', 'Equipment', 'Tested', 'TotalKg', 'Date', 'MeetName']].drop_duplicates()"
   ]
  },
  {
   "cell_type": "markdown",
   "id": "ec7e470d3cd874eb",
   "metadata": {
    "collapsed": false
   },
   "source": [
    "# Male untested wraps records"
   ]
  },
  {
   "cell_type": "code",
   "execution_count": null,
   "id": "95c37c41797c946f",
   "metadata": {
    "collapsed": false,
    "tags": [
     "hide_input"
    ],
    "ExecuteTime": {
     "start_time": "2024-02-10T04:08:43.938182492Z"
    }
   },
   "outputs": [],
   "source": [
    "male_not_tested_wraps[['Name', 'WeightClassKg', 'Equipment', 'Tested', 'TotalKg', 'Date', 'MeetName']].drop_duplicates()"
   ]
  },
  {
   "cell_type": "markdown",
   "id": "d9efe37869e31bcb",
   "metadata": {
    "collapsed": false
   },
   "source": [
    "# Male untested single ply records"
   ]
  },
  {
   "cell_type": "code",
   "execution_count": null,
   "id": "e93a812272d38dfa",
   "metadata": {
    "collapsed": false,
    "tags": [
     "hide_input"
    ],
    "ExecuteTime": {
     "start_time": "2024-02-10T04:08:43.938232427Z"
    }
   },
   "outputs": [],
   "source": [
    "male_not_tested_single_ply[['Name', 'WeightClassKg', 'Equipment', 'Tested', 'TotalKg', 'Date', 'MeetName']].drop_duplicates()"
   ]
  },
  {
   "cell_type": "markdown",
   "id": "3b9cd125d6c7f39b",
   "metadata": {
    "collapsed": false
   },
   "source": [
    "# Male untested mutli-ply records"
   ]
  },
  {
   "cell_type": "code",
   "execution_count": null,
   "id": "429c54f1785c3bf4",
   "metadata": {
    "collapsed": false,
    "tags": [
     "hide_input"
    ],
    "ExecuteTime": {
     "start_time": "2024-02-10T04:08:43.938281680Z"
    }
   },
   "outputs": [],
   "source": [
    "male_not_tested_multi_ply[['Name', 'WeightClassKg', 'Equipment', 'Tested', 'TotalKg', 'Date', 'MeetName']].drop_duplicates()"
   ]
  },
  {
   "cell_type": "markdown",
   "id": "669e01539ea5313c",
   "metadata": {
    "collapsed": false
   },
   "source": [
    "# Female untested raw records"
   ]
  },
  {
   "cell_type": "code",
   "execution_count": null,
   "id": "c66583d8df44c48c",
   "metadata": {
    "collapsed": false,
    "tags": [
     "hide_input"
    ],
    "ExecuteTime": {
     "start_time": "2024-02-10T04:08:43.938334470Z"
    }
   },
   "outputs": [],
   "source": [
    "female_not_tested_raw[['Name', 'WeightClassKg', 'Equipment', 'Tested', 'TotalKg', 'Date', 'MeetName']].drop_duplicates()"
   ]
  },
  {
   "cell_type": "markdown",
   "id": "ebf398b201caeb52",
   "metadata": {
    "collapsed": false
   },
   "source": [
    "# female untested wraps records"
   ]
  },
  {
   "cell_type": "code",
   "execution_count": null,
   "id": "3ba74100daeb07c7",
   "metadata": {
    "collapsed": false,
    "tags": [
     "hide_input"
    ],
    "ExecuteTime": {
     "start_time": "2024-02-10T04:08:43.938419481Z"
    }
   },
   "outputs": [],
   "source": [
    "female_not_tested_wraps[['Name', 'WeightClassKg', 'Equipment', 'Tested', 'TotalKg', 'Date', 'MeetName']].drop_duplicates()"
   ]
  },
  {
   "cell_type": "markdown",
   "id": "a906f3f695e0505c",
   "metadata": {
    "collapsed": false,
    "tags": [
     "hide_input"
    ]
   },
   "source": [
    "# Female untested single-ply records"
   ]
  },
  {
   "cell_type": "code",
   "execution_count": null,
   "id": "6f415db6223c24ff",
   "metadata": {
    "collapsed": false,
    "tags": [
     "hide_input"
    ],
    "ExecuteTime": {
     "start_time": "2024-02-10T04:08:43.938484805Z"
    }
   },
   "outputs": [],
   "source": [
    "female_not_tested_single_ply[['Name', 'WeightClassKg', 'Equipment', 'Tested', 'TotalKg', 'Date', 'MeetName']].drop_duplicates()"
   ]
  },
  {
   "cell_type": "markdown",
   "id": "3c487e5c70459104",
   "metadata": {
    "collapsed": false
   },
   "source": [
    "# Female untested multi-ply records"
   ]
  },
  {
   "cell_type": "code",
   "execution_count": null,
   "id": "24753251709fee38",
   "metadata": {
    "collapsed": false,
    "tags": [
     "hide_input"
    ],
    "ExecuteTime": {
     "start_time": "2024-02-10T04:08:43.938546532Z"
    }
   },
   "outputs": [],
   "source": [
    "female_not_tested_multi_ply[['Name', 'WeightClassKg', 'Equipment', 'Tested', 'TotalKg', 'Date', 'MeetName']].drop_duplicates()"
   ]
  },
  {
   "cell_type": "markdown",
   "id": "8e833a6f9cc76128",
   "metadata": {
    "collapsed": false
   },
   "source": [
    "# Male tested raw records"
   ]
  },
  {
   "cell_type": "code",
   "execution_count": null,
   "id": "69b875bad90efc9e",
   "metadata": {
    "collapsed": false,
    "tags": [
     "hide_input"
    ],
    "ExecuteTime": {
     "start_time": "2024-02-10T04:08:43.938610884Z"
    }
   },
   "outputs": [],
   "source": [
    "male_tested_raw[['Name', 'WeightClassKg', 'Equipment', 'Tested', 'TotalKg', 'Date', 'MeetName']].drop_duplicates()"
   ]
  },
  {
   "cell_type": "markdown",
   "id": "a35ef18d5c370bd5",
   "metadata": {
    "collapsed": false
   },
   "source": [
    "# Female tested raw records"
   ]
  },
  {
   "cell_type": "code",
   "execution_count": null,
   "id": "9f6eeb52e902c6ff",
   "metadata": {
    "collapsed": false,
    "tags": [
     "hide_input"
    ],
    "ExecuteTime": {
     "start_time": "2024-02-10T04:08:43.938681077Z"
    }
   },
   "outputs": [],
   "source": [
    "female_tested_raw[['Name', 'WeightClassKg', 'Equipment', 'Tested', 'TotalKg', 'Date', 'MeetName']].drop_duplicates()"
   ]
  }
 ],
 "metadata": {
  "kernelspec": {
   "display_name": "Python 3 (ipykernel)",
   "language": "python",
   "name": "python3"
  },
  "language_info": {
   "codemirror_mode": {
    "name": "ipython",
    "version": 3
   },
   "file_extension": ".py",
   "mimetype": "text/x-python",
   "name": "python",
   "nbconvert_exporter": "python",
   "pygments_lexer": "ipython3",
   "version": "3.12.1"
  }
 },
 "nbformat": 4,
 "nbformat_minor": 5
}
