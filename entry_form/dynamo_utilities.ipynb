{
 "cells": [
  {
   "cell_type": "code",
   "outputs": [],
   "source": [
    "from dynamodb_utilities import *"
   ],
   "metadata": {
    "collapsed": false
   },
   "id": "ba6fc439656ba8d8"
  },
  {
   "cell_type": "markdown",
   "source": [
    "**1. Creating the Table:**"
   ],
   "metadata": {
    "collapsed": false
   },
   "id": "b138ebe5a091c978"
  },
  {
   "cell_type": "code",
   "execution_count": null,
   "id": "initial_id",
   "metadata": {
    "collapsed": true
   },
   "outputs": [],
   "source": [
    "handler = DynamoDBHandler('apl_meet_entry')\n",
    "\n",
    "handler.create_table()"
   ]
  },
  {
   "cell_type": "markdown",
   "source": [
    "**2. Adding a Lifter:**"
   ],
   "metadata": {
    "collapsed": false
   },
   "id": "11ee8151231f95b7"
  },
  {
   "cell_type": "code",
   "outputs": [],
   "source": [
    "lifter_data = {\n",
    "    'Email': 'john.doe@example.com',\n",
    "    # ... other lifter data ...\n",
    "}\n",
    "\n",
    "handler.add_lifter(lifter_data)"
   ],
   "metadata": {
    "collapsed": false
   },
   "id": "7cb6f21435ab0176"
  },
  {
   "cell_type": "markdown",
   "source": [
    "**3. Updating a Lifter's Data:**"
   ],
   "metadata": {
    "collapsed": false
   },
   "id": "92ce335f2d8f2f11"
  },
  {
   "cell_type": "code",
   "outputs": [],
   "source": [
    "update_data = {'Phone Number': '1234567890'}\n",
    "\n",
    "handler.update_lifter('john.doe@example.com', update_data)"
   ],
   "metadata": {
    "collapsed": false
   },
   "id": "717c30c60948e776"
  },
  {
   "cell_type": "markdown",
   "source": [
    "**4.Deleting a Lifter:**"
   ],
   "metadata": {
    "collapsed": false
   },
   "id": "ae50477089832801"
  },
  {
   "cell_type": "code",
   "outputs": [],
   "source": [
    "handler.delete_lifter('john.doe@example.com')"
   ],
   "metadata": {
    "collapsed": false
   },
   "id": "80b0055f5149585c"
  }
 ],
 "metadata": {
  "kernelspec": {
   "display_name": "Python 3",
   "language": "python",
   "name": "python3"
  },
  "language_info": {
   "codemirror_mode": {
    "name": "ipython",
    "version": 2
   },
   "file_extension": ".py",
   "mimetype": "text/x-python",
   "name": "python",
   "nbconvert_exporter": "python",
   "pygments_lexer": "ipython2",
   "version": "2.7.6"
  }
 },
 "nbformat": 4,
 "nbformat_minor": 5
}
